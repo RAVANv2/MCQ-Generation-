{
 "cells": [
  {
   "cell_type": "markdown",
   "metadata": {},
   "source": [
    "## Imports"
   ]
  },
  {
   "cell_type": "code",
   "execution_count": 1,
   "metadata": {},
   "outputs": [],
   "source": [
    "# Common imports\n",
    "import pandas as pd\n",
    "from IPython.display import Markdown, display, clear_output"
   ]
  },
  {
   "cell_type": "markdown",
   "metadata": {},
   "source": [
    "### Pickling"
   ]
  },
  {
   "cell_type": "code",
   "execution_count": 2,
   "metadata": {},
   "outputs": [],
   "source": [
    "import _pickle as cPickle\n",
    "from pathlib import Path\n",
    "\n",
    "def dumpPickle(fileName, content):\n",
    "    pickleFile = open(fileName, 'wb')\n",
    "    cPickle.dump(content, pickleFile, -1)\n",
    "    pickleFile.close()\n",
    "\n",
    "def loadPickle(fileName):    \n",
    "    file = open(fileName, 'rb')\n",
    "    content = cPickle.load(file)\n",
    "    file.close()\n",
    "    \n",
    "    return content\n",
    "    \n",
    "def pickleExists(fileName):\n",
    "    file = Path(fileName)\n",
    "    \n",
    "    if file.is_file():\n",
    "        return True\n",
    "    \n",
    "    return False"
   ]
  },
  {
   "cell_type": "markdown",
   "metadata": {},
   "source": [
    "## *Extract all words from plain text and generate it's features*"
   ]
  },
  {
   "cell_type": "code",
   "execution_count": 3,
   "metadata": {},
   "outputs": [],
   "source": [
    "import spacy\n",
    "from spacy import displacy\n",
    "import en_core_web_sm\n",
    "nlp = en_core_web_sm.load()\n",
    "\n",
    "\n",
    "#Extract answers and the sentence they are in\n",
    "def extractAnswers(qas, doc):\n",
    "    answers = []\n",
    "\n",
    "    senStart = 0\n",
    "    senId = 0\n",
    "\n",
    "    for sentence in doc.sents:\n",
    "        senLen = len(sentence.text)\n",
    "\n",
    "        for answer in qas:\n",
    "            answerStart = answer['answers'][0]['answer_start']\n",
    "\n",
    "            if (answerStart >= senStart and answerStart < (senStart + senLen)):\n",
    "                answers.append({'sentenceId': senId, 'text': answer['answers'][0]['text']})\n",
    "\n",
    "        senStart += senLen\n",
    "        senId += 1\n",
    "    \n",
    "    return answers\n",
    "\n",
    "#TODO - Clean answers from stopwords?\n",
    "def tokenIsAnswer(token, sentenceId, answers):\n",
    "    for i in range(len(answers)):\n",
    "        if (answers[i]['sentenceId'] == sentenceId):\n",
    "            if (answers[i]['text'] == token):\n",
    "                return True\n",
    "    return False\n",
    "\n",
    "#Save named entities start points\n",
    "\n",
    "def getNEStartIndexs(doc):\n",
    "    neStarts = {}\n",
    "    for ne in doc.ents:\n",
    "        neStarts[ne.start] = ne\n",
    "        \n",
    "    return neStarts \n",
    "\n",
    "def getSentenceStartIndexes(doc):\n",
    "    senStarts = []\n",
    "    \n",
    "    for sentence in doc.sents:\n",
    "        senStarts.append(sentence[0].i)\n",
    "    \n",
    "    return senStarts\n",
    "    \n",
    "def getSentenceForWordPosition(wordPos, senStarts):\n",
    "    for i in range(1, len(senStarts)):\n",
    "        if (wordPos < senStarts[i]):\n",
    "            return i - 1\n",
    "        \n",
    "def addWordsForParagrapgh(newWords, text):\n",
    "    doc = nlp(text)\n",
    "\n",
    "    neStarts = getNEStartIndexs(doc)\n",
    "    senStarts = getSentenceStartIndexes(doc)\n",
    "    \n",
    "    #index of word in spacy doc text\n",
    "    i = 0\n",
    "    \n",
    "    while (i < len(doc)):\n",
    "        #If the token is a start of a Named Entity, add it and push to index to end of the NE\n",
    "        if (i in neStarts):\n",
    "            word = neStarts[i]\n",
    "            #add word\n",
    "            currentSentence = getSentenceForWordPosition(word.start, senStarts)\n",
    "            wordLen = word.end - word.start\n",
    "            shape = ''\n",
    "            for wordIndex in range(word.start, word.end):\n",
    "                shape += (' ' + doc[wordIndex].shape_)\n",
    "\n",
    "            newWords.append([word.text,\n",
    "                            0,\n",
    "                            0,\n",
    "                            currentSentence,\n",
    "                            wordLen,\n",
    "                            word.label_,\n",
    "                            None,\n",
    "                            None,\n",
    "                            None,\n",
    "                            shape])\n",
    "            i = neStarts[i].end - 1\n",
    "        #If not a NE, add the word if it's not a stopword or a non-alpha (not regular letters)\n",
    "        else:\n",
    "            if (doc[i].is_stop == False and doc[i].is_alpha == True):\n",
    "                word = doc[i]\n",
    "\n",
    "                currentSentence = getSentenceForWordPosition(i, senStarts)\n",
    "                wordLen = 1\n",
    "\n",
    "                newWords.append([word.text,\n",
    "                                0,\n",
    "                                0,\n",
    "                                currentSentence,\n",
    "                                wordLen,\n",
    "                                None,\n",
    "                                word.pos_,\n",
    "                                word.tag_,\n",
    "                                word.dep_,\n",
    "                                word.shape_])\n",
    "        i += 1\n",
    "\n",
    "def oneHotEncodeColumns(df):\n",
    "    columnsToEncode = ['NER', 'POS', \"TAG\", 'DEP']\n",
    "\n",
    "    for column in columnsToEncode:\n",
    "        one_hot = pd.get_dummies(df[column])\n",
    "        one_hot = one_hot.add_prefix(column + '_')\n",
    "\n",
    "        df = df.drop(column, axis = 1)\n",
    "        df = df.join(one_hot)\n",
    "    \n",
    "    return df"
   ]
  },
  {
   "cell_type": "markdown",
   "metadata": {},
   "source": [
    "## *Predict whether a word is a keyword* "
   ]
  },
  {
   "cell_type": "code",
   "execution_count": 45,
   "metadata": {},
   "outputs": [],
   "source": [
    "def generateDf(text):\n",
    "    words = []\n",
    "    addWordsForParagrapgh(words, text)\n",
    "\n",
    "    wordColums = ['text', 'titleId', 'paragrapghId', 'sentenceId','wordCount', 'NER', 'POS', 'TAG', 'DEP','shape']\n",
    "    df = pd.DataFrame(words, columns=wordColums)\n",
    "    print(df.shape)\n",
    "    return df\n"
   ]
  },
  {
   "cell_type": "code",
   "execution_count": 46,
   "metadata": {},
   "outputs": [],
   "source": [
    "def prepareDf(df):\n",
    "    #One-hot encoding\n",
    "    wordsDf = oneHotEncodeColumns(df)\n",
    "\n",
    "    #Drop unused columns\n",
    "    columnsToDrop = ['text', 'titleId', 'paragrapghId', 'sentenceId', 'shape']\n",
    "    wordsDf = wordsDf.drop(columnsToDrop, axis = 1)\n",
    "\n",
    "    #Add missing colums \n",
    "    predictorColumns = ['wordCount','NER_CARDINAL','NER_DATE','NER_EVENT','NER_FAC','NER_GPE','NER_LANGUAGE','NER_LAW','NER_LOC','NER_MONEY','NER_NORP','NER_ORDINAL','NER_ORG','NER_PERCENT','NER_PERSON','NER_PRODUCT','NER_QUANTITY','NER_TIME','NER_WORK_OF_ART','POS_ADJ','POS_ADP','POS_ADV','POS_CCONJ','POS_DET','POS_INTJ','POS_NOUN','POS_NUM','POS_PART','POS_PRON','POS_PROPN','POS_PUNCT','POS_SYM','POS_VERB','POS_X','TAG_''','TAG_-LRB-','TAG_.','TAG_ADD','TAG_AFX','TAG_CC','TAG_CD','TAG_DT','TAG_EX','TAG_FW','TAG_IN','TAG_JJ','TAG_JJR','TAG_JJS','TAG_LS','TAG_MD','TAG_NFP','TAG_NN','TAG_NNP','TAG_NNPS','TAG_NNS','TAG_PDT','TAG_POS','TAG_PRP','TAG_PRP$','TAG_RB','TAG_RBR','TAG_RBS','TAG_RP','TAG_SYM','TAG_TO','TAG_UH','TAG_VB','TAG_VBD','TAG_VBG','TAG_VBN','TAG_VBP','TAG_VBZ','TAG_WDT','TAG_WP','TAG_WRB','TAG_XX','DEP_ROOT','DEP_acl','DEP_acomp','DEP_advcl','DEP_advmod','DEP_agent','DEP_amod','DEP_appos','DEP_attr','DEP_aux','DEP_auxpass','DEP_case','DEP_cc','DEP_ccomp','DEP_compound','DEP_conj','DEP_csubj','DEP_csubjpass','DEP_dative','DEP_dep','DEP_det','DEP_dobj','DEP_expl','DEP_intj','DEP_mark','DEP_meta','DEP_neg','DEP_nmod','DEP_npadvmod','DEP_nsubj','DEP_nsubjpass','DEP_nummod','DEP_oprd','DEP_parataxis','DEP_pcomp','DEP_pobj','DEP_poss','DEP_preconj','DEP_predet','DEP_prep','DEP_prt','DEP_punct','DEP_quantmod','DEP_relcl','DEP_xcomp']\n",
    "\n",
    "    for feature in predictorColumns:\n",
    "        if feature not in wordsDf.columns:\n",
    "            wordsDf[feature] = 0\n",
    "    print(wordsDf.shape)\n",
    "    return wordsDf"
   ]
  },
  {
   "cell_type": "code",
   "execution_count": 50,
   "metadata": {},
   "outputs": [],
   "source": [
    "def predictWords(wordsDf, df):\n",
    "    \n",
    "    predictorPickleName = 'data/pickles/nb-predictor.pkl'\n",
    "    predictor = loadPickle(predictorPickleName)\n",
    "    \n",
    "    y_pred = predictor.predict_proba(wordsDf)\n",
    "\n",
    "    labeledAnswers = []\n",
    "    for i in range(len(y_pred)):\n",
    "        labeledAnswers.append({'word': df.iloc[i]['text'], 'prob': y_pred[i][0]})\n",
    "    return labeledAnswers"
   ]
  },
  {
   "cell_type": "markdown",
   "metadata": {},
   "source": [
    "## *Extract questions*"
   ]
  },
  {
   "cell_type": "code",
   "execution_count": 7,
   "metadata": {},
   "outputs": [],
   "source": [
    "def blankAnswer(firstTokenIndex, lastTokenIndex, sentStart, sentEnd, doc):\n",
    "    leftPartStart = doc[sentStart].idx\n",
    "    leftPartEnd = doc[firstTokenIndex].idx\n",
    "    rightPartStart = doc[lastTokenIndex].idx + len(doc[lastTokenIndex])\n",
    "    rightPartEnd = doc[sentEnd - 1].idx + len(doc[sentEnd - 1])\n",
    "    \n",
    "    question = doc.text[leftPartStart:leftPartEnd] + '_____' + doc.text[rightPartStart:rightPartEnd]\n",
    "    \n",
    "    return question\n"
   ]
  },
  {
   "cell_type": "code",
   "execution_count": 8,
   "metadata": {},
   "outputs": [],
   "source": [
    "def addQuestions(answers, text):\n",
    "    doc = nlp(text)\n",
    "    currAnswerIndex = 0\n",
    "    qaPair = []\n",
    "\n",
    "    #Check wheter each token is the next answer\n",
    "    for sent in doc.sents:\n",
    "        for token in sent:\n",
    "            \n",
    "            #If all the answers have been found, stop looking\n",
    "            if currAnswerIndex >= len(answers):\n",
    "                break\n",
    "            \n",
    "            #In the case where the answer is consisted of more than one token, check the following tokens as well.\n",
    "            answerDoc = nlp(answers[currAnswerIndex]['word'])\n",
    "            answerIsFound = True\n",
    "            \n",
    "            for j in range(len(answerDoc)):\n",
    "                if token.i + j >= len(doc) or doc[token.i + j].text != answerDoc[j].text:\n",
    "                    answerIsFound = False\n",
    "           \n",
    "            #If the current token is corresponding with the answer, add it \n",
    "            if answerIsFound:\n",
    "                question = blankAnswer(token.i, token.i + len(answerDoc) - 1, sent.start, sent.end, doc)\n",
    "                \n",
    "                qaPair.append({'question' : question, 'answer': answers[currAnswerIndex]['word'], 'prob': answers[currAnswerIndex]['prob']})\n",
    "                \n",
    "                currAnswerIndex += 1\n",
    "                \n",
    "    return qaPair"
   ]
  },
  {
   "cell_type": "code",
   "execution_count": 9,
   "metadata": {},
   "outputs": [],
   "source": [
    "def sortAnswers(qaPairs):\n",
    "    orderedQaPairs = sorted(qaPairs, key=lambda qaPair: qaPair['prob'])\n",
    "    \n",
    "    return orderedQaPairs    "
   ]
  },
  {
   "cell_type": "markdown",
   "metadata": {},
   "source": [
    "## *Distractors*\n",
    "Taken from the *04. Generating incorrect answers/Incorrect-answers* notebook."
   ]
  },
  {
   "cell_type": "code",
   "execution_count": 10,
   "metadata": {},
   "outputs": [],
   "source": [
    "import gensim\n",
    "from gensim.test.utils import datapath, get_tmpfile\n",
    "from gensim.models import KeyedVectors\n",
    "\n",
    "glove_file = 'data/embeddings/glove.6B.300d.txt'\n",
    "tmp_file = 'data/embeddings/word2vec-glove.6B.300d.txt'\n",
    "\n",
    "from gensim.scripts.glove2word2vec import glove2word2vec\n",
    "glove2word2vec(glove_file, tmp_file)\n",
    "model = KeyedVectors.load_word2vec_format(tmp_file)"
   ]
  },
  {
   "cell_type": "code",
   "execution_count": 11,
   "metadata": {},
   "outputs": [],
   "source": [
    "def generate_distractors(answer, count):\n",
    "    answer = str.lower(answer)\n",
    "    \n",
    "    ##Extracting closest words for the answer. \n",
    "    try:\n",
    "        closestWords = model.most_similar(positive=[answer], topn=count)\n",
    "    except:\n",
    "        #In case the word is not in the vocabulary, or other problem not loading embeddings\n",
    "        return []\n",
    "\n",
    "    #Return count many distractors\n",
    "    distractors = list(map(lambda x: x[0], closestWords))[0:count]\n",
    "    \n",
    "    return distractors"
   ]
  },
  {
   "cell_type": "code",
   "execution_count": 12,
   "metadata": {},
   "outputs": [],
   "source": [
    "def addDistractors(qaPairs, count):\n",
    "    for qaPair in qaPairs:\n",
    "        distractors = generate_distractors(qaPair['answer'], count)\n",
    "        qaPair['distractors'] = distractors\n",
    "    \n",
    "    return qaPairs"
   ]
  },
  {
   "cell_type": "markdown",
   "metadata": {},
   "source": [
    "# Main function"
   ]
  },
  {
   "cell_type": "code",
   "execution_count": 103,
   "metadata": {},
   "outputs": [],
   "source": [
    "def generateQuestions(text, count):\n",
    "    \n",
    "    # Extract words \n",
    "    df = generateDf(text)\n",
    "    wordsDf = prepareDf(df)\n",
    "    \n",
    "    # Predict \n",
    "    labeledAnswers = predictWords(wordsDf, df)\n",
    "\n",
    "   \n",
    "    # Transform questions\n",
    "    qaPairs = addQuestions(labeledAnswers, text)\n",
    "    \n",
    "    # Pick the best questions\n",
    "    orderedQaPairs = sortAnswers(qaPairs)\n",
    "    \n",
    "    # Generate distractors\n",
    "    questions = addDistractors(orderedQaPairs[:count], 4)\n",
    "    \n",
    "    # Print\n",
    "    liQ = []\n",
    "    liA = []\n",
    "    liIA = []\n",
    "    for i in range(count):\n",
    "        display(Markdown('### Question ' + str(i + 1) + ':'))\n",
    "        liQ.append(questions[i]['question'])\n",
    "        print(liQ)\n",
    "\n",
    "        display(Markdown('#### Answer:'))\n",
    "        liA.append(questions[i]['answer'])\n",
    "        print(liA)\n",
    "        \n",
    "        display(Markdown('#### Incorrect answers:'))\n",
    "        liIA.append(questions[i]['distractors'])\n",
    "        print(liIA)\n",
    "#         for distractor in questions[i]['distractors']:\n",
    "           \n",
    "#             liIA.append(distractor)\n",
    "            \n",
    "        \n",
    "      "
   ]
  },
  {
   "cell_type": "code",
   "execution_count": 104,
   "metadata": {},
   "outputs": [
    {
     "name": "stdout",
     "output_type": "stream",
     "text": [
      "815\n",
      "(74, 10)\n",
      "(74, 121)\n"
     ]
    },
    {
     "name": "stderr",
     "output_type": "stream",
     "text": [
      "/home/harsh/anaconda3/lib/python3.7/site-packages/sklearn/base.py:306: UserWarning: Trying to unpickle estimator GaussianNB from version 0.20.3 when using version 0.21.3. This might lead to breaking code or invalid results. Use at your own risk.\n",
      "  UserWarning)\n"
     ]
    },
    {
     "data": {
      "text/markdown": [
       "### Question 1:"
      ],
      "text/plain": [
       "<IPython.core.display.Markdown object>"
      ]
     },
     "metadata": {},
     "output_type": "display_data"
    },
    {
     "name": "stdout",
     "output_type": "stream",
     "text": [
      "['The unified cell theory states that: all living things are composed of one or more cells; the cell is the basic unit of life; and new cells _____ from existing cells.']\n"
     ]
    },
    {
     "data": {
      "text/markdown": [
       "#### Answer:"
      ],
      "text/plain": [
       "<IPython.core.display.Markdown object>"
      ]
     },
     "metadata": {},
     "output_type": "display_data"
    },
    {
     "name": "stdout",
     "output_type": "stream",
     "text": [
      "['arise']\n"
     ]
    },
    {
     "data": {
      "text/markdown": [
       "#### Incorrect answers:"
      ],
      "text/plain": [
       "<IPython.core.display.Markdown object>"
      ]
     },
     "metadata": {},
     "output_type": "display_data"
    },
    {
     "name": "stdout",
     "output_type": "stream",
     "text": [
      "[['arising', 'arises', 'occur', 'arose']]\n"
     ]
    },
    {
     "data": {
      "text/markdown": [
       "### Question 2:"
      ],
      "text/plain": [
       "<IPython.core.display.Markdown object>"
      ]
     },
     "metadata": {},
     "output_type": "display_data"
    },
    {
     "name": "stdout",
     "output_type": "stream",
     "text": [
      "['The unified cell theory states that: all living things are composed of one or more cells; the cell is the basic unit of life; and new cells _____ from existing cells.', 'The _____ cell theory states that: all living things are composed of one or more cells; the cell is the basic unit of life; and new cells arise from existing cells.']\n"
     ]
    },
    {
     "data": {
      "text/markdown": [
       "#### Answer:"
      ],
      "text/plain": [
       "<IPython.core.display.Markdown object>"
      ]
     },
     "metadata": {},
     "output_type": "display_data"
    },
    {
     "name": "stdout",
     "output_type": "stream",
     "text": [
      "['arise', 'unified']\n"
     ]
    },
    {
     "data": {
      "text/markdown": [
       "#### Incorrect answers:"
      ],
      "text/plain": [
       "<IPython.core.display.Markdown object>"
      ]
     },
     "metadata": {},
     "output_type": "display_data"
    },
    {
     "name": "stdout",
     "output_type": "stream",
     "text": [
      "[['arising', 'arises', 'occur', 'arose'], ['unify', 'unifying', 'coherent', 'cohesive']]\n"
     ]
    },
    {
     "data": {
      "text/markdown": [
       "### Question 3:"
      ],
      "text/plain": [
       "<IPython.core.display.Markdown object>"
      ]
     },
     "metadata": {},
     "output_type": "display_data"
    },
    {
     "name": "stdout",
     "output_type": "stream",
     "text": [
      "['The unified cell theory states that: all living things are composed of one or more cells; the cell is the basic unit of life; and new cells _____ from existing cells.', 'The _____ cell theory states that: all living things are composed of one or more cells; the cell is the basic unit of life; and new cells arise from existing cells.', 'The unified cell theory states that: all living things are composed of one or more cells; the cell is the _____ unit of life; and new cells arise from existing cells.']\n"
     ]
    },
    {
     "data": {
      "text/markdown": [
       "#### Answer:"
      ],
      "text/plain": [
       "<IPython.core.display.Markdown object>"
      ]
     },
     "metadata": {},
     "output_type": "display_data"
    },
    {
     "name": "stdout",
     "output_type": "stream",
     "text": [
      "['arise', 'unified', 'basic']\n"
     ]
    },
    {
     "data": {
      "text/markdown": [
       "#### Incorrect answers:"
      ],
      "text/plain": [
       "<IPython.core.display.Markdown object>"
      ]
     },
     "metadata": {},
     "output_type": "display_data"
    },
    {
     "name": "stdout",
     "output_type": "stream",
     "text": [
      "[['arising', 'arises', 'occur', 'arose'], ['unify', 'unifying', 'coherent', 'cohesive'], ['fundamental', 'principles', 'essential', 'basics']]\n"
     ]
    },
    {
     "data": {
      "text/markdown": [
       "### Question 4:"
      ],
      "text/plain": [
       "<IPython.core.display.Markdown object>"
      ]
     },
     "metadata": {},
     "output_type": "display_data"
    },
    {
     "name": "stdout",
     "output_type": "stream",
     "text": [
      "['The unified cell theory states that: all living things are composed of one or more cells; the cell is the basic unit of life; and new cells _____ from existing cells.', 'The _____ cell theory states that: all living things are composed of one or more cells; the cell is the basic unit of life; and new cells arise from existing cells.', 'The unified cell theory states that: all living things are composed of one or more cells; the cell is the _____ unit of life; and new cells arise from existing cells.', 'The unified cell theory states that: all living things are composed of one or more cells; the cell is the basic unit of life; and _____ cells arise from existing cells.']\n"
     ]
    },
    {
     "data": {
      "text/markdown": [
       "#### Answer:"
      ],
      "text/plain": [
       "<IPython.core.display.Markdown object>"
      ]
     },
     "metadata": {},
     "output_type": "display_data"
    },
    {
     "name": "stdout",
     "output_type": "stream",
     "text": [
      "['arise', 'unified', 'basic', 'new']\n"
     ]
    },
    {
     "data": {
      "text/markdown": [
       "#### Incorrect answers:"
      ],
      "text/plain": [
       "<IPython.core.display.Markdown object>"
      ]
     },
     "metadata": {},
     "output_type": "display_data"
    },
    {
     "name": "stdout",
     "output_type": "stream",
     "text": [
      "[['arising', 'arises', 'occur', 'arose'], ['unify', 'unifying', 'coherent', 'cohesive'], ['fundamental', 'principles', 'essential', 'basics'], ['york', 'first', 'same', '.']]\n"
     ]
    },
    {
     "data": {
      "text/markdown": [
       "### Question 5:"
      ],
      "text/plain": [
       "<IPython.core.display.Markdown object>"
      ]
     },
     "metadata": {},
     "output_type": "display_data"
    },
    {
     "name": "stdout",
     "output_type": "stream",
     "text": [
      "['The unified cell theory states that: all living things are composed of one or more cells; the cell is the basic unit of life; and new cells _____ from existing cells.', 'The _____ cell theory states that: all living things are composed of one or more cells; the cell is the basic unit of life; and new cells arise from existing cells.', 'The unified cell theory states that: all living things are composed of one or more cells; the cell is the _____ unit of life; and new cells arise from existing cells.', 'The unified cell theory states that: all living things are composed of one or more cells; the cell is the basic unit of life; and _____ cells arise from existing cells.', 'Rudolf Virchow later made _____ contributions to this theory.']\n"
     ]
    },
    {
     "data": {
      "text/markdown": [
       "#### Answer:"
      ],
      "text/plain": [
       "<IPython.core.display.Markdown object>"
      ]
     },
     "metadata": {},
     "output_type": "display_data"
    },
    {
     "name": "stdout",
     "output_type": "stream",
     "text": [
      "['arise', 'unified', 'basic', 'new', 'important']\n"
     ]
    },
    {
     "data": {
      "text/markdown": [
       "#### Incorrect answers:"
      ],
      "text/plain": [
       "<IPython.core.display.Markdown object>"
      ]
     },
     "metadata": {},
     "output_type": "display_data"
    },
    {
     "name": "stdout",
     "output_type": "stream",
     "text": [
      "[['arising', 'arises', 'occur', 'arose'], ['unify', 'unifying', 'coherent', 'cohesive'], ['fundamental', 'principles', 'essential', 'basics'], ['york', 'first', 'same', '.'], ['crucial', 'importance', 'vital', 'especially']]\n"
     ]
    },
    {
     "data": {
      "text/markdown": [
       "### Question 6:"
      ],
      "text/plain": [
       "<IPython.core.display.Markdown object>"
      ]
     },
     "metadata": {},
     "output_type": "display_data"
    },
    {
     "name": "stdout",
     "output_type": "stream",
     "text": [
      "['The unified cell theory states that: all living things are composed of one or more cells; the cell is the basic unit of life; and new cells _____ from existing cells.', 'The _____ cell theory states that: all living things are composed of one or more cells; the cell is the basic unit of life; and new cells arise from existing cells.', 'The unified cell theory states that: all living things are composed of one or more cells; the cell is the _____ unit of life; and new cells arise from existing cells.', 'The unified cell theory states that: all living things are composed of one or more cells; the cell is the basic unit of life; and _____ cells arise from existing cells.', 'Rudolf Virchow later made _____ contributions to this theory.', 'Schleiden and Schwann proposed _____ generation as the method for cell origination, but spontaneous generation (also called abiogenesis) was later disproven.']\n"
     ]
    },
    {
     "data": {
      "text/markdown": [
       "#### Answer:"
      ],
      "text/plain": [
       "<IPython.core.display.Markdown object>"
      ]
     },
     "metadata": {},
     "output_type": "display_data"
    },
    {
     "name": "stdout",
     "output_type": "stream",
     "text": [
      "['arise', 'unified', 'basic', 'new', 'important', 'spontaneous']\n"
     ]
    },
    {
     "data": {
      "text/markdown": [
       "#### Incorrect answers:"
      ],
      "text/plain": [
       "<IPython.core.display.Markdown object>"
      ]
     },
     "metadata": {},
     "output_type": "display_data"
    },
    {
     "name": "stdout",
     "output_type": "stream",
     "text": [
      "[['arising', 'arises', 'occur', 'arose'], ['unify', 'unifying', 'coherent', 'cohesive'], ['fundamental', 'principles', 'essential', 'basics'], ['york', 'first', 'same', '.'], ['crucial', 'importance', 'vital', 'especially'], ['spontaneously', 'joyful', 'outpouring', 'joyous']]\n"
     ]
    },
    {
     "data": {
      "text/markdown": [
       "### Question 7:"
      ],
      "text/plain": [
       "<IPython.core.display.Markdown object>"
      ]
     },
     "metadata": {},
     "output_type": "display_data"
    },
    {
     "name": "stdout",
     "output_type": "stream",
     "text": [
      "['The unified cell theory states that: all living things are composed of one or more cells; the cell is the basic unit of life; and new cells _____ from existing cells.', 'The _____ cell theory states that: all living things are composed of one or more cells; the cell is the basic unit of life; and new cells arise from existing cells.', 'The unified cell theory states that: all living things are composed of one or more cells; the cell is the _____ unit of life; and new cells arise from existing cells.', 'The unified cell theory states that: all living things are composed of one or more cells; the cell is the basic unit of life; and _____ cells arise from existing cells.', 'Rudolf Virchow later made _____ contributions to this theory.', 'Schleiden and Schwann proposed _____ generation as the method for cell origination, but spontaneous generation (also called abiogenesis) was later disproven.', 'Schleiden and Schwann proposed spontaneous generation as the method for cell origination, but _____ generation (also called abiogenesis) was later disproven.']\n"
     ]
    },
    {
     "data": {
      "text/markdown": [
       "#### Answer:"
      ],
      "text/plain": [
       "<IPython.core.display.Markdown object>"
      ]
     },
     "metadata": {},
     "output_type": "display_data"
    },
    {
     "name": "stdout",
     "output_type": "stream",
     "text": [
      "['arise', 'unified', 'basic', 'new', 'important', 'spontaneous', 'spontaneous']\n"
     ]
    },
    {
     "data": {
      "text/markdown": [
       "#### Incorrect answers:"
      ],
      "text/plain": [
       "<IPython.core.display.Markdown object>"
      ]
     },
     "metadata": {},
     "output_type": "display_data"
    },
    {
     "name": "stdout",
     "output_type": "stream",
     "text": [
      "[['arising', 'arises', 'occur', 'arose'], ['unify', 'unifying', 'coherent', 'cohesive'], ['fundamental', 'principles', 'essential', 'basics'], ['york', 'first', 'same', '.'], ['crucial', 'importance', 'vital', 'especially'], ['spontaneously', 'joyful', 'outpouring', 'joyous'], ['spontaneously', 'joyful', 'outpouring', 'joyous']]\n"
     ]
    },
    {
     "data": {
      "text/markdown": [
       "### Question 8:"
      ],
      "text/plain": [
       "<IPython.core.display.Markdown object>"
      ]
     },
     "metadata": {},
     "output_type": "display_data"
    },
    {
     "name": "stdout",
     "output_type": "stream",
     "text": [
      "['The unified cell theory states that: all living things are composed of one or more cells; the cell is the basic unit of life; and new cells _____ from existing cells.', 'The _____ cell theory states that: all living things are composed of one or more cells; the cell is the basic unit of life; and new cells arise from existing cells.', 'The unified cell theory states that: all living things are composed of one or more cells; the cell is the _____ unit of life; and new cells arise from existing cells.', 'The unified cell theory states that: all living things are composed of one or more cells; the cell is the basic unit of life; and _____ cells arise from existing cells.', 'Rudolf Virchow later made _____ contributions to this theory.', 'Schleiden and Schwann proposed _____ generation as the method for cell origination, but spontaneous generation (also called abiogenesis) was later disproven.', 'Schleiden and Schwann proposed spontaneous generation as the method for cell origination, but _____ generation (also called abiogenesis) was later disproven.', '“All cells only arise from pre-_____ cells.']\n"
     ]
    },
    {
     "data": {
      "text/markdown": [
       "#### Answer:"
      ],
      "text/plain": [
       "<IPython.core.display.Markdown object>"
      ]
     },
     "metadata": {},
     "output_type": "display_data"
    },
    {
     "name": "stdout",
     "output_type": "stream",
     "text": [
      "['arise', 'unified', 'basic', 'new', 'important', 'spontaneous', 'spontaneous', 'existing']\n"
     ]
    },
    {
     "data": {
      "text/markdown": [
       "#### Incorrect answers:"
      ],
      "text/plain": [
       "<IPython.core.display.Markdown object>"
      ]
     },
     "metadata": {},
     "output_type": "display_data"
    },
    {
     "name": "stdout",
     "output_type": "stream",
     "text": [
      "[['arising', 'arises', 'occur', 'arose'], ['unify', 'unifying', 'coherent', 'cohesive'], ['fundamental', 'principles', 'essential', 'basics'], ['york', 'first', 'same', '.'], ['crucial', 'importance', 'vital', 'especially'], ['spontaneously', 'joyful', 'outpouring', 'joyous'], ['spontaneously', 'joyful', 'outpouring', 'joyous'], ['expand', 'current', 'build', 'expanding']]\n"
     ]
    },
    {
     "data": {
      "text/markdown": [
       "### Question 9:"
      ],
      "text/plain": [
       "<IPython.core.display.Markdown object>"
      ]
     },
     "metadata": {},
     "output_type": "display_data"
    },
    {
     "name": "stdout",
     "output_type": "stream",
     "text": [
      "['The unified cell theory states that: all living things are composed of one or more cells; the cell is the basic unit of life; and new cells _____ from existing cells.', 'The _____ cell theory states that: all living things are composed of one or more cells; the cell is the basic unit of life; and new cells arise from existing cells.', 'The unified cell theory states that: all living things are composed of one or more cells; the cell is the _____ unit of life; and new cells arise from existing cells.', 'The unified cell theory states that: all living things are composed of one or more cells; the cell is the basic unit of life; and _____ cells arise from existing cells.', 'Rudolf Virchow later made _____ contributions to this theory.', 'Schleiden and Schwann proposed _____ generation as the method for cell origination, but spontaneous generation (also called abiogenesis) was later disproven.', 'Schleiden and Schwann proposed spontaneous generation as the method for cell origination, but _____ generation (also called abiogenesis) was later disproven.', '“All cells only arise from pre-_____ cells.', '“The parts of the theory that did not have to do with the origin of cells, however, held up to _____ scrutiny and are widely agreed upon by the scientific community today.']\n"
     ]
    },
    {
     "data": {
      "text/markdown": [
       "#### Answer:"
      ],
      "text/plain": [
       "<IPython.core.display.Markdown object>"
      ]
     },
     "metadata": {},
     "output_type": "display_data"
    },
    {
     "name": "stdout",
     "output_type": "stream",
     "text": [
      "['arise', 'unified', 'basic', 'new', 'important', 'spontaneous', 'spontaneous', 'existing', 'scientific']\n"
     ]
    },
    {
     "data": {
      "text/markdown": [
       "#### Incorrect answers:"
      ],
      "text/plain": [
       "<IPython.core.display.Markdown object>"
      ]
     },
     "metadata": {},
     "output_type": "display_data"
    },
    {
     "name": "stdout",
     "output_type": "stream",
     "text": [
      "[['arising', 'arises', 'occur', 'arose'], ['unify', 'unifying', 'coherent', 'cohesive'], ['fundamental', 'principles', 'essential', 'basics'], ['york', 'first', 'same', '.'], ['crucial', 'importance', 'vital', 'especially'], ['spontaneously', 'joyful', 'outpouring', 'joyous'], ['spontaneously', 'joyful', 'outpouring', 'joyous'], ['expand', 'current', 'build', 'expanding'], ['research', 'science', 'scholarly', 'scientists']]\n"
     ]
    },
    {
     "data": {
      "text/markdown": [
       "### Question 10:"
      ],
      "text/plain": [
       "<IPython.core.display.Markdown object>"
      ]
     },
     "metadata": {},
     "output_type": "display_data"
    },
    {
     "name": "stdout",
     "output_type": "stream",
     "text": [
      "['The unified cell theory states that: all living things are composed of one or more cells; the cell is the basic unit of life; and new cells _____ from existing cells.', 'The _____ cell theory states that: all living things are composed of one or more cells; the cell is the basic unit of life; and new cells arise from existing cells.', 'The unified cell theory states that: all living things are composed of one or more cells; the cell is the _____ unit of life; and new cells arise from existing cells.', 'The unified cell theory states that: all living things are composed of one or more cells; the cell is the basic unit of life; and _____ cells arise from existing cells.', 'Rudolf Virchow later made _____ contributions to this theory.', 'Schleiden and Schwann proposed _____ generation as the method for cell origination, but spontaneous generation (also called abiogenesis) was later disproven.', 'Schleiden and Schwann proposed spontaneous generation as the method for cell origination, but _____ generation (also called abiogenesis) was later disproven.', '“All cells only arise from pre-_____ cells.', '“The parts of the theory that did not have to do with the origin of cells, however, held up to _____ scrutiny and are widely agreed upon by the scientific community today.', '“The parts of the theory that did not have to do with the origin of cells, however, held up to scientific scrutiny and are widely agreed upon by the _____ community today.']\n"
     ]
    },
    {
     "data": {
      "text/markdown": [
       "#### Answer:"
      ],
      "text/plain": [
       "<IPython.core.display.Markdown object>"
      ]
     },
     "metadata": {},
     "output_type": "display_data"
    },
    {
     "name": "stdout",
     "output_type": "stream",
     "text": [
      "['arise', 'unified', 'basic', 'new', 'important', 'spontaneous', 'spontaneous', 'existing', 'scientific', 'scientific']\n"
     ]
    },
    {
     "data": {
      "text/markdown": [
       "#### Incorrect answers:"
      ],
      "text/plain": [
       "<IPython.core.display.Markdown object>"
      ]
     },
     "metadata": {},
     "output_type": "display_data"
    },
    {
     "name": "stdout",
     "output_type": "stream",
     "text": [
      "[['arising', 'arises', 'occur', 'arose'], ['unify', 'unifying', 'coherent', 'cohesive'], ['fundamental', 'principles', 'essential', 'basics'], ['york', 'first', 'same', '.'], ['crucial', 'importance', 'vital', 'especially'], ['spontaneously', 'joyful', 'outpouring', 'joyous'], ['spontaneously', 'joyful', 'outpouring', 'joyous'], ['expand', 'current', 'build', 'expanding'], ['research', 'science', 'scholarly', 'scientists'], ['research', 'science', 'scholarly', 'scientists']]\n"
     ]
    },
    {
     "data": {
      "text/markdown": [
       "### Question 11:"
      ],
      "text/plain": [
       "<IPython.core.display.Markdown object>"
      ]
     },
     "metadata": {},
     "output_type": "display_data"
    },
    {
     "name": "stdout",
     "output_type": "stream",
     "text": [
      "['The unified cell theory states that: all living things are composed of one or more cells; the cell is the basic unit of life; and new cells _____ from existing cells.', 'The _____ cell theory states that: all living things are composed of one or more cells; the cell is the basic unit of life; and new cells arise from existing cells.', 'The unified cell theory states that: all living things are composed of one or more cells; the cell is the _____ unit of life; and new cells arise from existing cells.', 'The unified cell theory states that: all living things are composed of one or more cells; the cell is the basic unit of life; and _____ cells arise from existing cells.', 'Rudolf Virchow later made _____ contributions to this theory.', 'Schleiden and Schwann proposed _____ generation as the method for cell origination, but spontaneous generation (also called abiogenesis) was later disproven.', 'Schleiden and Schwann proposed spontaneous generation as the method for cell origination, but _____ generation (also called abiogenesis) was later disproven.', '“All cells only arise from pre-_____ cells.', '“The parts of the theory that did not have to do with the origin of cells, however, held up to _____ scrutiny and are widely agreed upon by the scientific community today.', '“The parts of the theory that did not have to do with the origin of cells, however, held up to scientific scrutiny and are widely agreed upon by the _____ community today.', '“All cells only _____ from pre-existing cells.']\n"
     ]
    },
    {
     "data": {
      "text/markdown": [
       "#### Answer:"
      ],
      "text/plain": [
       "<IPython.core.display.Markdown object>"
      ]
     },
     "metadata": {},
     "output_type": "display_data"
    },
    {
     "name": "stdout",
     "output_type": "stream",
     "text": [
      "['arise', 'unified', 'basic', 'new', 'important', 'spontaneous', 'spontaneous', 'existing', 'scientific', 'scientific', 'arise']\n"
     ]
    },
    {
     "data": {
      "text/markdown": [
       "#### Incorrect answers:"
      ],
      "text/plain": [
       "<IPython.core.display.Markdown object>"
      ]
     },
     "metadata": {},
     "output_type": "display_data"
    },
    {
     "name": "stdout",
     "output_type": "stream",
     "text": [
      "[['arising', 'arises', 'occur', 'arose'], ['unify', 'unifying', 'coherent', 'cohesive'], ['fundamental', 'principles', 'essential', 'basics'], ['york', 'first', 'same', '.'], ['crucial', 'importance', 'vital', 'especially'], ['spontaneously', 'joyful', 'outpouring', 'joyous'], ['spontaneously', 'joyful', 'outpouring', 'joyous'], ['expand', 'current', 'build', 'expanding'], ['research', 'science', 'scholarly', 'scientists'], ['research', 'science', 'scholarly', 'scientists'], ['arising', 'arises', 'occur', 'arose']]\n"
     ]
    },
    {
     "data": {
      "text/markdown": [
       "### Question 12:"
      ],
      "text/plain": [
       "<IPython.core.display.Markdown object>"
      ]
     },
     "metadata": {},
     "output_type": "display_data"
    },
    {
     "name": "stdout",
     "output_type": "stream",
     "text": [
      "['The unified cell theory states that: all living things are composed of one or more cells; the cell is the basic unit of life; and new cells _____ from existing cells.', 'The _____ cell theory states that: all living things are composed of one or more cells; the cell is the basic unit of life; and new cells arise from existing cells.', 'The unified cell theory states that: all living things are composed of one or more cells; the cell is the _____ unit of life; and new cells arise from existing cells.', 'The unified cell theory states that: all living things are composed of one or more cells; the cell is the basic unit of life; and _____ cells arise from existing cells.', 'Rudolf Virchow later made _____ contributions to this theory.', 'Schleiden and Schwann proposed _____ generation as the method for cell origination, but spontaneous generation (also called abiogenesis) was later disproven.', 'Schleiden and Schwann proposed spontaneous generation as the method for cell origination, but _____ generation (also called abiogenesis) was later disproven.', '“All cells only arise from pre-_____ cells.', '“The parts of the theory that did not have to do with the origin of cells, however, held up to _____ scrutiny and are widely agreed upon by the scientific community today.', '“The parts of the theory that did not have to do with the origin of cells, however, held up to scientific scrutiny and are widely agreed upon by the _____ community today.', '“All cells only _____ from pre-existing cells.', 'The unified cell theory states that: all living _____ are composed of one or more cells; the cell is the basic unit of life; and new cells arise from existing cells.']\n"
     ]
    },
    {
     "data": {
      "text/markdown": [
       "#### Answer:"
      ],
      "text/plain": [
       "<IPython.core.display.Markdown object>"
      ]
     },
     "metadata": {},
     "output_type": "display_data"
    },
    {
     "name": "stdout",
     "output_type": "stream",
     "text": [
      "['arise', 'unified', 'basic', 'new', 'important', 'spontaneous', 'spontaneous', 'existing', 'scientific', 'scientific', 'arise', 'things']\n"
     ]
    },
    {
     "data": {
      "text/markdown": [
       "#### Incorrect answers:"
      ],
      "text/plain": [
       "<IPython.core.display.Markdown object>"
      ]
     },
     "metadata": {},
     "output_type": "display_data"
    },
    {
     "name": "stdout",
     "output_type": "stream",
     "text": [
      "[['arising', 'arises', 'occur', 'arose'], ['unify', 'unifying', 'coherent', 'cohesive'], ['fundamental', 'principles', 'essential', 'basics'], ['york', 'first', 'same', '.'], ['crucial', 'importance', 'vital', 'especially'], ['spontaneously', 'joyful', 'outpouring', 'joyous'], ['spontaneously', 'joyful', 'outpouring', 'joyous'], ['expand', 'current', 'build', 'expanding'], ['research', 'science', 'scholarly', 'scientists'], ['research', 'science', 'scholarly', 'scientists'], ['arising', 'arises', 'occur', 'arose'], ['really', 'something', 'everything', 'thing']]\n"
     ]
    },
    {
     "data": {
      "text/markdown": [
       "### Question 13:"
      ],
      "text/plain": [
       "<IPython.core.display.Markdown object>"
      ]
     },
     "metadata": {},
     "output_type": "display_data"
    },
    {
     "name": "stdout",
     "output_type": "stream",
     "text": [
      "['The unified cell theory states that: all living things are composed of one or more cells; the cell is the basic unit of life; and new cells _____ from existing cells.', 'The _____ cell theory states that: all living things are composed of one or more cells; the cell is the basic unit of life; and new cells arise from existing cells.', 'The unified cell theory states that: all living things are composed of one or more cells; the cell is the _____ unit of life; and new cells arise from existing cells.', 'The unified cell theory states that: all living things are composed of one or more cells; the cell is the basic unit of life; and _____ cells arise from existing cells.', 'Rudolf Virchow later made _____ contributions to this theory.', 'Schleiden and Schwann proposed _____ generation as the method for cell origination, but spontaneous generation (also called abiogenesis) was later disproven.', 'Schleiden and Schwann proposed spontaneous generation as the method for cell origination, but _____ generation (also called abiogenesis) was later disproven.', '“All cells only arise from pre-_____ cells.', '“The parts of the theory that did not have to do with the origin of cells, however, held up to _____ scrutiny and are widely agreed upon by the scientific community today.', '“The parts of the theory that did not have to do with the origin of cells, however, held up to scientific scrutiny and are widely agreed upon by the _____ community today.', '“All cells only _____ from pre-existing cells.', 'The unified cell theory states that: all living _____ are composed of one or more cells; the cell is the basic unit of life; and new cells arise from existing cells.', 'By the late 1830s, botanist Matthias Schleiden and zoologist Theodor Schwann were _____ tissues and proposed the unified cell theory.']\n"
     ]
    },
    {
     "data": {
      "text/markdown": [
       "#### Answer:"
      ],
      "text/plain": [
       "<IPython.core.display.Markdown object>"
      ]
     },
     "metadata": {},
     "output_type": "display_data"
    },
    {
     "name": "stdout",
     "output_type": "stream",
     "text": [
      "['arise', 'unified', 'basic', 'new', 'important', 'spontaneous', 'spontaneous', 'existing', 'scientific', 'scientific', 'arise', 'things', 'studying']\n"
     ]
    },
    {
     "data": {
      "text/markdown": [
       "#### Incorrect answers:"
      ],
      "text/plain": [
       "<IPython.core.display.Markdown object>"
      ]
     },
     "metadata": {},
     "output_type": "display_data"
    },
    {
     "name": "stdout",
     "output_type": "stream",
     "text": [
      "[['arising', 'arises', 'occur', 'arose'], ['unify', 'unifying', 'coherent', 'cohesive'], ['fundamental', 'principles', 'essential', 'basics'], ['york', 'first', 'same', '.'], ['crucial', 'importance', 'vital', 'especially'], ['spontaneously', 'joyful', 'outpouring', 'joyous'], ['spontaneously', 'joyful', 'outpouring', 'joyous'], ['expand', 'current', 'build', 'expanding'], ['research', 'science', 'scholarly', 'scientists'], ['research', 'science', 'scholarly', 'scientists'], ['arising', 'arises', 'occur', 'arose'], ['really', 'something', 'everything', 'thing'], ['studied', 'study', 'studies', 'teaching']]\n"
     ]
    },
    {
     "data": {
      "text/markdown": [
       "### Question 14:"
      ],
      "text/plain": [
       "<IPython.core.display.Markdown object>"
      ]
     },
     "metadata": {},
     "output_type": "display_data"
    },
    {
     "name": "stdout",
     "output_type": "stream",
     "text": [
      "['The unified cell theory states that: all living things are composed of one or more cells; the cell is the basic unit of life; and new cells _____ from existing cells.', 'The _____ cell theory states that: all living things are composed of one or more cells; the cell is the basic unit of life; and new cells arise from existing cells.', 'The unified cell theory states that: all living things are composed of one or more cells; the cell is the _____ unit of life; and new cells arise from existing cells.', 'The unified cell theory states that: all living things are composed of one or more cells; the cell is the basic unit of life; and _____ cells arise from existing cells.', 'Rudolf Virchow later made _____ contributions to this theory.', 'Schleiden and Schwann proposed _____ generation as the method for cell origination, but spontaneous generation (also called abiogenesis) was later disproven.', 'Schleiden and Schwann proposed spontaneous generation as the method for cell origination, but _____ generation (also called abiogenesis) was later disproven.', '“All cells only arise from pre-_____ cells.', '“The parts of the theory that did not have to do with the origin of cells, however, held up to _____ scrutiny and are widely agreed upon by the scientific community today.', '“The parts of the theory that did not have to do with the origin of cells, however, held up to scientific scrutiny and are widely agreed upon by the _____ community today.', '“All cells only _____ from pre-existing cells.', 'The unified cell theory states that: all living _____ are composed of one or more cells; the cell is the basic unit of life; and new cells arise from existing cells.', 'By the late 1830s, botanist Matthias Schleiden and zoologist Theodor Schwann were _____ tissues and proposed the unified cell theory.', 'Schleiden and Schwann proposed spontaneous generation as the method for cell origination, but spontaneous generation (also _____ abiogenesis) was later disproven.']\n"
     ]
    },
    {
     "data": {
      "text/markdown": [
       "#### Answer:"
      ],
      "text/plain": [
       "<IPython.core.display.Markdown object>"
      ]
     },
     "metadata": {},
     "output_type": "display_data"
    },
    {
     "name": "stdout",
     "output_type": "stream",
     "text": [
      "['arise', 'unified', 'basic', 'new', 'important', 'spontaneous', 'spontaneous', 'existing', 'scientific', 'scientific', 'arise', 'things', 'studying', 'called']\n"
     ]
    },
    {
     "data": {
      "text/markdown": [
       "#### Incorrect answers:"
      ],
      "text/plain": [
       "<IPython.core.display.Markdown object>"
      ]
     },
     "metadata": {},
     "output_type": "display_data"
    },
    {
     "name": "stdout",
     "output_type": "stream",
     "text": [
      "[['arising', 'arises', 'occur', 'arose'], ['unify', 'unifying', 'coherent', 'cohesive'], ['fundamental', 'principles', 'essential', 'basics'], ['york', 'first', 'same', '.'], ['crucial', 'importance', 'vital', 'especially'], ['spontaneously', 'joyful', 'outpouring', 'joyous'], ['spontaneously', 'joyful', 'outpouring', 'joyous'], ['expand', 'current', 'build', 'expanding'], ['research', 'science', 'scholarly', 'scientists'], ['research', 'science', 'scholarly', 'scientists'], ['arising', 'arises', 'occur', 'arose'], ['really', 'something', 'everything', 'thing'], ['studied', 'study', 'studies', 'teaching'], ['known', 'referred', 'calling', 'also']]\n"
     ]
    },
    {
     "data": {
      "text/markdown": [
       "### Question 15:"
      ],
      "text/plain": [
       "<IPython.core.display.Markdown object>"
      ]
     },
     "metadata": {},
     "output_type": "display_data"
    },
    {
     "name": "stdout",
     "output_type": "stream",
     "text": [
      "['The unified cell theory states that: all living things are composed of one or more cells; the cell is the basic unit of life; and new cells _____ from existing cells.', 'The _____ cell theory states that: all living things are composed of one or more cells; the cell is the basic unit of life; and new cells arise from existing cells.', 'The unified cell theory states that: all living things are composed of one or more cells; the cell is the _____ unit of life; and new cells arise from existing cells.', 'The unified cell theory states that: all living things are composed of one or more cells; the cell is the basic unit of life; and _____ cells arise from existing cells.', 'Rudolf Virchow later made _____ contributions to this theory.', 'Schleiden and Schwann proposed _____ generation as the method for cell origination, but spontaneous generation (also called abiogenesis) was later disproven.', 'Schleiden and Schwann proposed spontaneous generation as the method for cell origination, but _____ generation (also called abiogenesis) was later disproven.', '“All cells only arise from pre-_____ cells.', '“The parts of the theory that did not have to do with the origin of cells, however, held up to _____ scrutiny and are widely agreed upon by the scientific community today.', '“The parts of the theory that did not have to do with the origin of cells, however, held up to scientific scrutiny and are widely agreed upon by the _____ community today.', '“All cells only _____ from pre-existing cells.', 'The unified cell theory states that: all living _____ are composed of one or more cells; the cell is the basic unit of life; and new cells arise from existing cells.', 'By the late 1830s, botanist Matthias Schleiden and zoologist Theodor Schwann were _____ tissues and proposed the unified cell theory.', 'Schleiden and Schwann proposed spontaneous generation as the method for cell origination, but spontaneous generation (also _____ abiogenesis) was later disproven.', 'Schleiden and Schwann proposed spontaneous generation as the method for cell origination, but spontaneous generation (also called abiogenesis) was later _____.']\n"
     ]
    },
    {
     "data": {
      "text/markdown": [
       "#### Answer:"
      ],
      "text/plain": [
       "<IPython.core.display.Markdown object>"
      ]
     },
     "metadata": {},
     "output_type": "display_data"
    },
    {
     "name": "stdout",
     "output_type": "stream",
     "text": [
      "['arise', 'unified', 'basic', 'new', 'important', 'spontaneous', 'spontaneous', 'existing', 'scientific', 'scientific', 'arise', 'things', 'studying', 'called', 'disproven']\n"
     ]
    },
    {
     "data": {
      "text/markdown": [
       "#### Incorrect answers:"
      ],
      "text/plain": [
       "<IPython.core.display.Markdown object>"
      ]
     },
     "metadata": {},
     "output_type": "display_data"
    },
    {
     "name": "stdout",
     "output_type": "stream",
     "text": [
      "[['arising', 'arises', 'occur', 'arose'], ['unify', 'unifying', 'coherent', 'cohesive'], ['fundamental', 'principles', 'essential', 'basics'], ['york', 'first', 'same', '.'], ['crucial', 'importance', 'vital', 'especially'], ['spontaneously', 'joyful', 'outpouring', 'joyous'], ['spontaneously', 'joyful', 'outpouring', 'joyous'], ['expand', 'current', 'build', 'expanding'], ['research', 'science', 'scholarly', 'scientists'], ['research', 'science', 'scholarly', 'scientists'], ['arising', 'arises', 'occur', 'arose'], ['really', 'something', 'everything', 'thing'], ['studied', 'study', 'studies', 'teaching'], ['known', 'referred', 'calling', 'also'], ['disproved', 'debunked', 'substantiated', 'refuted']]\n"
     ]
    }
   ],
   "source": [
    "text=\"By the late 1830s, botanist Matthias Schleiden and zoologist Theodor Schwann were studying tissues and proposed the unified cell theory. The unified cell theory states that: all living things are composed of one or more cells; the cell is the basic unit of life; and new cells arise from existing cells. Rudolf Virchow later made important contributions to this theory.Schleiden and Schwann proposed spontaneous generation as the method for cell origination, but spontaneous generation (also called abiogenesis) was later disproven. Rudolf Virchow famously stated “Omnis cellula e cellula”… “All cells only arise from pre-existing cells. “The parts of the theory that did not have to do with the origin of cells, however, held up to scientific scrutiny and are widely agreed upon by the scientific community today. \"\n",
    "print(len(text))\n",
    "\n",
    "generateQuestions(text, 15)"
   ]
  },
  {
   "cell_type": "code",
   "execution_count": 69,
   "metadata": {},
   "outputs": [
    {
     "ename": "NameError",
     "evalue": "name 'li' is not defined",
     "output_type": "error",
     "traceback": [
      "\u001b[0;31m---------------------------------------------------------------------------\u001b[0m",
      "\u001b[0;31mNameError\u001b[0m                                 Traceback (most recent call last)",
      "\u001b[0;32m<ipython-input-69-3fab4c9c2cf3>\u001b[0m in \u001b[0;36m<module>\u001b[0;34m\u001b[0m\n\u001b[0;32m----> 1\u001b[0;31m \u001b[0mli\u001b[0m\u001b[0;34m\u001b[0m\u001b[0;34m\u001b[0m\u001b[0m\n\u001b[0m",
      "\u001b[0;31mNameError\u001b[0m: name 'li' is not defined"
     ]
    }
   ],
   "source": [
    "li"
   ]
  },
  {
   "cell_type": "code",
   "execution_count": null,
   "metadata": {},
   "outputs": [],
   "source": []
  },
  {
   "cell_type": "code",
   "execution_count": null,
   "metadata": {},
   "outputs": [],
   "source": []
  }
 ],
 "metadata": {
  "kernelspec": {
   "display_name": "Python 3",
   "language": "python",
   "name": "python3"
  },
  "language_info": {
   "codemirror_mode": {
    "name": "ipython",
    "version": 3
   },
   "file_extension": ".py",
   "mimetype": "text/x-python",
   "name": "python",
   "nbconvert_exporter": "python",
   "pygments_lexer": "ipython3",
   "version": "3.7.4"
  }
 },
 "nbformat": 4,
 "nbformat_minor": 4
}
